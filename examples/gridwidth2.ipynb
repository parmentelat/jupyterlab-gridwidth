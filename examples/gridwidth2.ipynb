{
 "cells": [
  {
   "cell_type": "markdown",
   "id": "172a761d-2abd-4eb3-91f3-def1e740188c",
   "metadata": {
    "editable": true,
    "slideshow": {
     "slide_type": ""
    },
    "tags": []
   },
   "source": [
    "# porting split-cell"
   ]
  },
  {
   "cell_type": "markdown",
   "id": "63452deb-183f-4b20-b8d3-efdeb71819cc",
   "metadata": {},
   "source": [
    "in nb6 there used to be a nbextension called `split-cell`  \n",
    "which allowed some fancier layout, based on a cell's metadata:\n",
    "\n",
    "* with `cell_style: split` the cell was using 50% of the width so that 2 cells could be shown one alongside another\n",
    "* there was also `cell_style: center` which apparently was neutral (doing nothing) as far as I can tell from our usage (I suspect this may have been the result of setting/unsetting split on that cell)"
   ]
  },
  {
   "cell_type": "markdown",
   "id": "23a5bbb4-f2af-4953-ad55-9de78037938d",
   "metadata": {},
   "source": [
    "the idea is\n",
    "\n",
    "* to use cell tags instead; leveraging `jupyterlab-celltagsclasses` to then attach css rules based on said tags\n",
    "* conversion: since this is a one-shot process, and applied *en masse*, we'll write a dedicated conversion tool:\n",
    "\n",
    "to convert: on all cells, in its metadata:\n",
    "* if there's no `cell_style` key: continue to next cell\n",
    "* if `cell_style` == split: add tag 'gridwidth-1-2'\n",
    "* delete `metadata.cell_style`"
   ]
  },
  {
   "cell_type": "markdown",
   "id": "04fa1848-c08c-4ea3-b853-66b8d685f618",
   "metadata": {},
   "source": [
    "supported tags: \n",
    "\n",
    "- `gridwidth-1-2` (50%)\n",
    "- `gridwidth-1-3` (~33%) `gridwidth-2-3` (~66%)\n",
    "- `gridwidth-1-4` `gridwidth-2-4`, `gridwidth-3-4`\n",
    "- `gridwidth-1-5` `gridwidth-2-5`, `gridwidth-3-5`, `gridwidth-4-5`\n",
    "- `gridwidth-1-6` `gridwidth-2-6`, `gridwidth-3-6`, `gridwidth-4-6`, `gridwidth-5-6`\n",
    "\n",
    "associated keyboard shortcuts are e.g. `Control-\\ Control-2 Control-3` to use `gridwidth-2-3`"
   ]
  },
  {
   "cell_type": "markdown",
   "id": "c31deb28-2e9e-44f3-bc0b-ba9fce10f4bd",
   "metadata": {},
   "source": [
    "## split width in 2"
   ]
  },
  {
   "cell_type": "code",
   "execution_count": 3,
   "id": "3e24233e-12e0-4438-a588-5cf21dee62a3",
   "metadata": {
    "editable": true,
    "slideshow": {
     "slide_type": ""
    },
    "tags": [
     "gridwidth-1-2"
    ]
   },
   "outputs": [],
   "source": [
    "# gridwidth-1-2 code\n",
    "def hi():\n",
    "    print(\"hello\")"
   ]
  },
  {
   "cell_type": "code",
   "execution_count": 4,
   "id": "598981bd-3dc0-42ad-9004-fb0bc5a07fd2",
   "metadata": {
    "editable": true,
    "slideshow": {
     "slide_type": ""
    },
    "tags": [
     "gridwidth-1-2"
    ]
   },
   "outputs": [
    {
     "name": "stdout",
     "output_type": "stream",
     "text": [
      "hello\n"
     ]
    }
   ],
   "source": [
    "# gridwidth-1-2 code\n",
    "hi()"
   ]
  },
  {
   "cell_type": "markdown",
   "id": "13e20ba1-fb5f-4d76-ba24-1e27826b917f",
   "metadata": {
    "editable": true,
    "slideshow": {
     "slide_type": ""
    },
    "tags": [
     "gridwidth-1-2"
    ]
   },
   "source": [
    "text cell gridwidth 1/2\n",
    "\n",
    "Where does it come from ?\n",
    "Contrary to popular belief, Lorem Ipsum is not simply random text. It has roots in a piece of classical Latin literature from 45 BC, making it over 2000 years old. Richard McClintock, a Latin professor at Hampden-Sydney College in Virginia, looked up one of the more obscure Latin words, consectetur, from a Lorem Ipsum passage, and going through the cites of the word in classical literature, discovered the undoubtable source. Lorem Ipsum comes from sections 1.10.32 and 1.10.33 of \"de Finibus Bonorum et Malorum\" (The Extremes of Good and Evil) by Cicero, written in 45 BC. This book is a treatise on the theory of ethics, very popular during the Renaissance. The first line of Lorem Ipsum, \"Lorem ipsum dolor sit amet..\", comes from a line in section 1.10.32."
   ]
  },
  {
   "cell_type": "markdown",
   "id": "29dcf23a-bd3a-424b-873c-5aebf7d73d58",
   "metadata": {
    "editable": true,
    "slideshow": {
     "slide_type": ""
    },
    "tags": [
     "gridwidth-1-2"
    ]
   },
   "source": [
    "text cell gridwidth 2/2\n",
    "\n",
    "Where does it come from ?\n",
    "Contrary to popular belief, Lorem Ipsum is not simply random text. It has roots in a piece of classical Latin literature from 45 BC, making it over 2000 years old. Richard McClintock, a Latin professor at Hampden-Sydney College in Virginia, looked up one of the more obscure Latin words, consectetur, from a Lorem Ipsum passage, and going through the cites of the word in classical literature, discovered the undoubtable source. Lorem Ipsum comes from sections 1.10.32 and 1.10.33 of \"de Finibus Bonorum et Malorum\" (The Extremes of Good and Evil) by Cicero, written in 45 BC. This book is a treatise on the theory of ethics, very popular during the Renaissance. The first line of Lorem Ipsum, \"Lorem ipsum dolor sit amet..\", comes from a line in section 1.10.32."
   ]
  },
  {
   "cell_type": "markdown",
   "id": "a385d72f-434d-48f3-944d-0a7fb919fa5b",
   "metadata": {},
   "source": [
    "## split width in 3"
   ]
  },
  {
   "cell_type": "code",
   "execution_count": 4,
   "id": "f9605dbd-4c12-4f5d-98fb-15caf4b35534",
   "metadata": {
    "editable": true,
    "slideshow": {
     "slide_type": ""
    },
    "tags": [
     "gridwidth-1-3"
    ]
   },
   "outputs": [
    {
     "name": "stdout",
     "output_type": "stream",
     "text": [
      "hello\n"
     ]
    }
   ],
   "source": [
    "# gridwidth-1-3 code\n",
    "hi()"
   ]
  },
  {
   "cell_type": "code",
   "execution_count": 4,
   "id": "05186962-10c9-4985-8ef9-b72addbe8f47",
   "metadata": {
    "editable": true,
    "slideshow": {
     "slide_type": ""
    },
    "tags": [
     "gridwidth-1-3"
    ]
   },
   "outputs": [
    {
     "name": "stdout",
     "output_type": "stream",
     "text": [
      "hello\n"
     ]
    }
   ],
   "source": [
    "# gridwidth-1-3 code\n",
    "hi()"
   ]
  },
  {
   "cell_type": "code",
   "execution_count": 4,
   "id": "9f8de9ce-eb47-4733-9dff-e7c16d9126fa",
   "metadata": {
    "editable": true,
    "slideshow": {
     "slide_type": ""
    },
    "tags": [
     "gridwidth-1-3"
    ]
   },
   "outputs": [
    {
     "name": "stdout",
     "output_type": "stream",
     "text": [
      "hello\n"
     ]
    }
   ],
   "source": [
    "# gridwidth-1-3 code\n",
    "hi()"
   ]
  },
  {
   "cell_type": "markdown",
   "id": "e006e07f-57fb-4890-964d-6873f506d214",
   "metadata": {
    "editable": true,
    "slideshow": {
     "slide_type": ""
    },
    "tags": [
     "gridwidth-1-3"
    ]
   },
   "source": [
    "text cell gridwidth 1/3\n",
    "\n",
    "Where does it come from ?\n",
    "Contrary to popular belief, Lorem Ipsum is not simply random text. It has roots in a piece of classical Latin literature from 45 BC, making it over 2000 years old. Richard McClintock, a Latin professor at Hampden-Sydney College in Virginia, looked up one of the more obscure Latin words, consectetur, from a Lorem Ipsum passage, and going through the cites of the word in classical literature, discovered the undoubtable source. Lorem Ipsum comes from sections 1.10.32 and 1.10.33 of \"de Finibus Bonorum et Malorum\" (The Extremes of Good and Evil) by Cicero, written in 45 BC. This book is a treatise on the theory of ethics, very popular during the Renaissance. The first line of Lorem Ipsum, \"Lorem ipsum dolor sit amet..\", comes from a line in section 1.10.32."
   ]
  },
  {
   "cell_type": "markdown",
   "id": "3be607eb-9ba8-4812-892f-75daa15751e2",
   "metadata": {
    "editable": true,
    "slideshow": {
     "slide_type": ""
    },
    "tags": [
     "gridwidth-1-3"
    ]
   },
   "source": [
    "text cell gridwidth 2/3\n",
    "\n",
    "Where does it come from ?\n",
    "Contrary to popular belief, Lorem Ipsum is not simply random text. It has roots in a piece of classical Latin literature from 45 BC, making it over 2000 years old. Richard McClintock, a Latin professor at Hampden-Sydney College in Virginia, looked up one of the more obscure Latin words, consectetur, from a Lorem Ipsum passage, and going through the cites of the word in classical literature, discovered the undoubtable source. Lorem Ipsum comes from sections 1.10.32 and 1.10.33 of \"de Finibus Bonorum et Malorum\" (The Extremes of Good and Evil) by Cicero, written in 45 BC. This book is a treatise on the theory of ethics, very popular during the Renaissance. The first line of Lorem Ipsum, \"Lorem ipsum dolor sit amet..\", comes from a line in section 1.10.32."
   ]
  },
  {
   "cell_type": "markdown",
   "id": "e9d029ed-7cc4-4ab4-bcab-100dfaa14ec6",
   "metadata": {
    "editable": true,
    "slideshow": {
     "slide_type": ""
    },
    "tags": [
     "gridwidth-1-3"
    ]
   },
   "source": [
    "text cell gridwidth 3/3\n",
    "\n",
    "Where does it come from ?\n",
    "Contrary to popular belief, Lorem Ipsum is not simply random text. It has roots in a piece of classical Latin literature from 45 BC, making it over 2000 years old. Richard McClintock, a Latin professor at Hampden-Sydney College in Virginia, looked up one of the more obscure Latin words, consectetur, from a Lorem Ipsum passage, and going through the cites of the word in classical literature, discovered the undoubtable source. Lorem Ipsum comes from sections 1.10.32 and 1.10.33 of \"de Finibus Bonorum et Malorum\" (The Extremes of Good and Evil) by Cicero, written in 45 BC. This book is a treatise on the theory of ethics, very popular during the Renaissance. The first line of Lorem Ipsum, \"Lorem ipsum dolor sit amet..\", comes from a line in section 1.10.32."
   ]
  },
  {
   "cell_type": "markdown",
   "id": "5b1f1388-38ae-475f-8c2b-445b1456a06c",
   "metadata": {},
   "source": [
    "## split width in 4"
   ]
  },
  {
   "cell_type": "code",
   "execution_count": 4,
   "id": "1ccd8231-ddf5-494f-9c88-3a5daeef1b41",
   "metadata": {
    "editable": true,
    "slideshow": {
     "slide_type": ""
    },
    "tags": [
     "gridwidth-1-4"
    ]
   },
   "outputs": [
    {
     "name": "stdout",
     "output_type": "stream",
     "text": [
      "hello\n"
     ]
    }
   ],
   "source": [
    "# gridwidth-1-4 code\n",
    "hi()"
   ]
  },
  {
   "cell_type": "code",
   "execution_count": 4,
   "id": "9ab91030-a220-4ec2-b56e-2986491c8cb9",
   "metadata": {
    "editable": true,
    "slideshow": {
     "slide_type": ""
    },
    "tags": [
     "gridwidth-1-4"
    ]
   },
   "outputs": [
    {
     "name": "stdout",
     "output_type": "stream",
     "text": [
      "hello\n"
     ]
    }
   ],
   "source": [
    "# gridwidth-1-4 code\n",
    "hi()"
   ]
  },
  {
   "cell_type": "code",
   "execution_count": 4,
   "id": "35712229-c20b-410d-ab14-ed905c95b7f7",
   "metadata": {
    "editable": true,
    "slideshow": {
     "slide_type": ""
    },
    "tags": [
     "gridwidth-1-4"
    ]
   },
   "outputs": [
    {
     "name": "stdout",
     "output_type": "stream",
     "text": [
      "hello\n"
     ]
    }
   ],
   "source": [
    "# gridwidth-1-4 code\n",
    "hi()"
   ]
  },
  {
   "cell_type": "code",
   "execution_count": 4,
   "id": "2e75be55-e8f1-481e-ae61-51fa5a5200e2",
   "metadata": {
    "editable": true,
    "slideshow": {
     "slide_type": ""
    },
    "tags": [
     "gridwidth-1-4"
    ]
   },
   "outputs": [
    {
     "name": "stdout",
     "output_type": "stream",
     "text": [
      "hello\n"
     ]
    }
   ],
   "source": [
    "# gridwidth-1-4 code\n",
    "hi()"
   ]
  },
  {
   "cell_type": "markdown",
   "id": "b989677a-b234-42a9-be70-5deec6e28abb",
   "metadata": {
    "editable": true,
    "slideshow": {
     "slide_type": ""
    },
    "tags": [
     "gridwidth-1-4"
    ]
   },
   "source": [
    "text cell gridwidth 1/4\n",
    "\n",
    "Where does it come from ?\n",
    "Contrary to popular belief, Lorem Ipsum is not simply random text. It has roots in a piece of classical Latin literature from 45 BC, making it over 2000 years old. Richard McClintock, a Latin professor at Hampden-Sydney College in Virginia, looked up one of the more obscure Latin words, consectetur, from a Lorem Ipsum passage, and going through the cites of the word in classical literature"
   ]
  },
  {
   "cell_type": "markdown",
   "id": "a4957325-dfd4-4b0a-9df1-067b3887b072",
   "metadata": {
    "editable": true,
    "slideshow": {
     "slide_type": ""
    },
    "tags": [
     "gridwidth-1-4"
    ]
   },
   "source": [
    "text cell gridwidth 2/4\n",
    "\n",
    "Where does it come from ?\n",
    "Contrary to popular belief, Lorem Ipsum is not simply random text. It has roots in a piece of classical Latin literature from 45 BC, making it over 2000 years old. Richard McClintock, a Latin professor at Hampden-Sydney College in Virginia, looked up one of the more obscure Latin words, consectetur, from a Lorem Ipsum passage, and going through the cites of the word in classical literature"
   ]
  },
  {
   "cell_type": "markdown",
   "id": "4b773f9e-d571-4a1a-a2ad-648d198d7751",
   "metadata": {
    "editable": true,
    "slideshow": {
     "slide_type": ""
    },
    "tags": [
     "gridwidth-1-4"
    ]
   },
   "source": [
    "text cell gridwidth 3/4\n",
    "\n",
    "Where does it come from ?\n",
    "Contrary to popular belief, Lorem Ipsum is not simply random text. It has roots in a piece of classical Latin literature from 45 BC, making it over 2000 years old. Richard McClintock, a Latin professor at Hampden-Sydney College in Virginia, looked up one of the more obscure Latin words, consectetur, from a Lorem Ipsum passage, and going through the cites of the word in classical literature"
   ]
  },
  {
   "cell_type": "markdown",
   "id": "ccb85fcc-ad92-4d08-9cc0-8e8527489ee9",
   "metadata": {
    "editable": true,
    "slideshow": {
     "slide_type": ""
    },
    "tags": [
     "gridwidth-1-4"
    ]
   },
   "source": [
    "text cell gridwidth 4/4\n",
    "\n",
    "Where does it come from ?\n",
    "Contrary to popular belief, Lorem Ipsum is not simply random text. It has roots in a piece of classical Latin literature from 45 BC, making it over 2000 years old. Richard McClintock, a Latin professor at Hampden-Sydney College in Virginia, looked up one of the more obscure Latin words, consectetur, from a Lorem Ipsum passage, and going through the cites of the word in classical literature"
   ]
  },
  {
   "cell_type": "markdown",
   "id": "fd3255ac-6bdb-41d2-bb72-40095ece4667",
   "metadata": {},
   "source": [
    "## split width in 5"
   ]
  },
  {
   "cell_type": "code",
   "execution_count": 4,
   "id": "06378aa7-cb16-487e-bd2a-f65979377938",
   "metadata": {
    "editable": true,
    "slideshow": {
     "slide_type": ""
    },
    "tags": [
     "gridwidth-1-5"
    ]
   },
   "outputs": [
    {
     "name": "stdout",
     "output_type": "stream",
     "text": [
      "hello\n"
     ]
    }
   ],
   "source": [
    "# gridwidth-1-5 code\n",
    "hi()"
   ]
  },
  {
   "cell_type": "code",
   "execution_count": 4,
   "id": "baa46967-9988-4def-bbc0-61ca99477026",
   "metadata": {
    "editable": true,
    "slideshow": {
     "slide_type": ""
    },
    "tags": [
     "gridwidth-1-5"
    ]
   },
   "outputs": [
    {
     "name": "stdout",
     "output_type": "stream",
     "text": [
      "hello\n"
     ]
    }
   ],
   "source": [
    "# gridwidth-1-5 code\n",
    "hi()"
   ]
  },
  {
   "cell_type": "code",
   "execution_count": 4,
   "id": "48051186-3f4d-4b1d-aec5-700d55a189ff",
   "metadata": {
    "editable": true,
    "slideshow": {
     "slide_type": ""
    },
    "tags": [
     "gridwidth-1-5"
    ]
   },
   "outputs": [
    {
     "name": "stdout",
     "output_type": "stream",
     "text": [
      "hello\n"
     ]
    }
   ],
   "source": [
    "# gridwidth-1-5 code\n",
    "hi()"
   ]
  },
  {
   "cell_type": "code",
   "execution_count": 4,
   "id": "10bdf11e-ccb9-4923-9e4e-6e9875639d14",
   "metadata": {
    "editable": true,
    "slideshow": {
     "slide_type": ""
    },
    "tags": [
     "gridwidth-1-5"
    ]
   },
   "outputs": [
    {
     "name": "stdout",
     "output_type": "stream",
     "text": [
      "hello\n"
     ]
    }
   ],
   "source": [
    "# gridwidth-1-5 code\n",
    "hi()"
   ]
  },
  {
   "cell_type": "code",
   "execution_count": 4,
   "id": "7ae28411-e4c6-4580-94f4-e3d60b675de1",
   "metadata": {
    "editable": true,
    "slideshow": {
     "slide_type": ""
    },
    "tags": [
     "gridwidth-1-5"
    ]
   },
   "outputs": [
    {
     "name": "stdout",
     "output_type": "stream",
     "text": [
      "hello\n"
     ]
    }
   ],
   "source": [
    "# gridwidth-1-5 code\n",
    "hi()"
   ]
  },
  {
   "cell_type": "markdown",
   "id": "04222d52-8a78-44f5-8d4a-c08090a7b229",
   "metadata": {
    "editable": true,
    "slideshow": {
     "slide_type": ""
    },
    "tags": [
     "gridwidth-1-5"
    ]
   },
   "source": [
    "text cell gridwidth 1/5\n",
    "\n",
    "Where does it come from ?\n",
    "Contrary to popular belief, Lorem Ipsum is not simply random text. It has roots in a piece of classical Latin literature from 45 BC"
   ]
  },
  {
   "cell_type": "markdown",
   "id": "1b6b053d-acb2-4be0-ac05-dae4af416e82",
   "metadata": {
    "editable": true,
    "slideshow": {
     "slide_type": ""
    },
    "tags": [
     "gridwidth-1-5"
    ]
   },
   "source": [
    "text cell gridwidth 2/5\n",
    "\n",
    "Where does it come from ?\n",
    "Contrary to popular belief, Lorem Ipsum is not simply random text. It has roots in a piece of classical Latin literature from 45 BC"
   ]
  },
  {
   "cell_type": "markdown",
   "id": "f6198a60-3854-4d67-8b61-0491a0ad5a58",
   "metadata": {
    "editable": true,
    "slideshow": {
     "slide_type": ""
    },
    "tags": [
     "gridwidth-1-5"
    ]
   },
   "source": [
    "text cell gridwidth 3/5\n",
    "\n",
    "Where does it come from ?\n",
    "Contrary to popular belief, Lorem Ipsum is not simply random text. It has roots in a piece of classical Latin literature from 45 BC"
   ]
  },
  {
   "cell_type": "markdown",
   "id": "6d1f30a6-525b-4018-8713-3308bae160c3",
   "metadata": {
    "editable": true,
    "slideshow": {
     "slide_type": ""
    },
    "tags": [
     "gridwidth-1-5"
    ]
   },
   "source": [
    "text cell gridwidth 4/5\n",
    "\n",
    "Where does it come from ?\n",
    "Contrary to popular belief, Lorem Ipsum is not simply random text. It has roots in a piece of classical Latin literature from 45 BC"
   ]
  },
  {
   "cell_type": "markdown",
   "id": "90564b77-dcfa-41e2-ba0a-cddbf2b48d70",
   "metadata": {
    "editable": true,
    "slideshow": {
     "slide_type": ""
    },
    "tags": [
     "gridwidth-1-5"
    ]
   },
   "source": [
    "text cell gridwidth 5/5\n",
    "\n",
    "Where does it come from ?\n",
    "Contrary to popular belief, Lorem Ipsum is not simply random text. It has roots in a piece of classical Latin literature from 45 BC"
   ]
  },
  {
   "cell_type": "markdown",
   "id": "678f24e9-7cbe-4861-b1ab-e5dbeca5c28d",
   "metadata": {},
   "source": [
    "## split width in 6"
   ]
  },
  {
   "cell_type": "code",
   "execution_count": 4,
   "id": "702adcc4-f2ab-4168-944b-284d4e772609",
   "metadata": {
    "editable": true,
    "slideshow": {
     "slide_type": ""
    },
    "tags": [
     "gridwidth-1-6"
    ]
   },
   "outputs": [
    {
     "name": "stdout",
     "output_type": "stream",
     "text": [
      "hello\n"
     ]
    }
   ],
   "source": [
    "# gridwidth-1-6 code 1\n",
    "hi()"
   ]
  },
  {
   "cell_type": "code",
   "execution_count": 4,
   "id": "466d0eca-7bba-4632-a0a1-fca0cf035b95",
   "metadata": {
    "editable": true,
    "slideshow": {
     "slide_type": ""
    },
    "tags": [
     "gridwidth-1-6"
    ]
   },
   "outputs": [
    {
     "name": "stdout",
     "output_type": "stream",
     "text": [
      "hello\n"
     ]
    }
   ],
   "source": [
    "# gridwidth-1-6 code 2\n",
    "hi()"
   ]
  },
  {
   "cell_type": "code",
   "execution_count": 4,
   "id": "ace459d8-45c9-4613-a174-a3dab6562fa1",
   "metadata": {
    "editable": true,
    "slideshow": {
     "slide_type": ""
    },
    "tags": [
     "gridwidth-1-6"
    ]
   },
   "outputs": [
    {
     "name": "stdout",
     "output_type": "stream",
     "text": [
      "hello\n"
     ]
    }
   ],
   "source": [
    "# gridwidth-1-6 code 3\n",
    "hi()"
   ]
  },
  {
   "cell_type": "code",
   "execution_count": 4,
   "id": "53c78f02-47d9-4eab-81c8-d8dcaa0c0b9f",
   "metadata": {
    "editable": true,
    "slideshow": {
     "slide_type": ""
    },
    "tags": [
     "gridwidth-1-6"
    ]
   },
   "outputs": [
    {
     "name": "stdout",
     "output_type": "stream",
     "text": [
      "hello\n"
     ]
    }
   ],
   "source": [
    "# gridwidth-1-6 code 4\n",
    "hi()"
   ]
  },
  {
   "cell_type": "code",
   "execution_count": 4,
   "id": "7788fa5c-2884-4e3a-98c8-8f20ea657f57",
   "metadata": {
    "editable": true,
    "slideshow": {
     "slide_type": ""
    },
    "tags": [
     "gridwidth-1-6"
    ]
   },
   "outputs": [
    {
     "name": "stdout",
     "output_type": "stream",
     "text": [
      "hello\n"
     ]
    }
   ],
   "source": [
    "# gridwidth-1-6 code 5\n",
    "hi()"
   ]
  },
  {
   "cell_type": "code",
   "execution_count": 4,
   "id": "554e0e59-d901-433e-ab69-a185307afe44",
   "metadata": {
    "editable": true,
    "slideshow": {
     "slide_type": ""
    },
    "tags": [
     "gridwidth-1-6"
    ]
   },
   "outputs": [
    {
     "name": "stdout",
     "output_type": "stream",
     "text": [
      "hello\n"
     ]
    }
   ],
   "source": [
    "# gridwidth-1-6 code 6\n",
    "hi()"
   ]
  },
  {
   "cell_type": "markdown",
   "id": "3d8a9e83-2559-4da9-a8d3-d5936c7948a8",
   "metadata": {
    "editable": true,
    "slideshow": {
     "slide_type": ""
    },
    "tags": [
     "gridwidth-1-6"
    ]
   },
   "source": [
    "text cell gridwidth 1/6\n",
    "\n",
    "Where does it come from ?\n",
    "Contrary to popular belief, Lorem Ipsum is not simply random text. "
   ]
  },
  {
   "cell_type": "markdown",
   "id": "93cd9886-d47e-45e5-b199-e18315e0b43e",
   "metadata": {
    "editable": true,
    "slideshow": {
     "slide_type": ""
    },
    "tags": [
     "gridwidth-1-6"
    ]
   },
   "source": [
    "text cell gridwidth 2/6\n",
    "\n",
    "Where does it come from ?\n",
    "Contrary to popular belief, Lorem Ipsum is not simply random text. "
   ]
  },
  {
   "cell_type": "markdown",
   "id": "1f369d6a-e2ea-46a8-9468-fbf20e332317",
   "metadata": {
    "editable": true,
    "slideshow": {
     "slide_type": ""
    },
    "tags": [
     "gridwidth-1-6"
    ]
   },
   "source": [
    "text cell gridwidth 3/6\n",
    "\n",
    "Where does it come from ?\n",
    "Contrary to popular belief, Lorem Ipsum is not simply random text. "
   ]
  },
  {
   "cell_type": "markdown",
   "id": "8c7b93a2-14b9-48ac-8817-161e482ab56e",
   "metadata": {
    "editable": true,
    "slideshow": {
     "slide_type": ""
    },
    "tags": [
     "gridwidth-1-6"
    ]
   },
   "source": [
    "text cell gridwidth 4/6\n",
    "\n",
    "Where does it come from ?\n",
    "Contrary to popular belief, Lorem Ipsum is not simply random text. "
   ]
  },
  {
   "cell_type": "markdown",
   "id": "583b8fbd-69b3-4f4b-9eef-fe46f5476521",
   "metadata": {
    "editable": true,
    "slideshow": {
     "slide_type": ""
    },
    "tags": [
     "gridwidth-1-6"
    ]
   },
   "source": [
    "text cell gridwidth 5/6\n",
    "\n",
    "Where does it come from ?\n",
    "Contrary to popular belief, Lorem Ipsum is not simply random text. "
   ]
  },
  {
   "cell_type": "markdown",
   "id": "b029c0be-fd3e-404f-a4bd-41c502cc463c",
   "metadata": {
    "editable": true,
    "slideshow": {
     "slide_type": ""
    },
    "tags": [
     "gridwidth-1-6"
    ]
   },
   "source": [
    "text cell gridwidth 6/6\n",
    "\n",
    "Where does it come from ?\n",
    "Contrary to popular belief, Lorem Ipsum is not simply random text. "
   ]
  },
  {
   "cell_type": "markdown",
   "id": "491697ef-117a-41d7-a9da-42b657c2ac08",
   "metadata": {},
   "source": [
    "## and other combinations"
   ]
  },
  {
   "cell_type": "code",
   "execution_count": 2,
   "id": "13fe486a-a8e9-4487-959f-32294f514ca4",
   "metadata": {
    "tags": [
     "gridwidth-2-3"
    ]
   },
   "outputs": [],
   "source": [
    "# use e.g. \n",
    "# Control-\\ Control-2 Control-3\n",
    "# to go for 2/3 of the available width"
   ]
  },
  {
   "cell_type": "code",
   "execution_count": 1,
   "id": "1196c085-3baa-4e53-b37e-81ff7fa6f2ea",
   "metadata": {
    "tags": [
     "gridwidth-1-3"
    ]
   },
   "outputs": [],
   "source": [
    "# 1 /3 "
   ]
  },
  {
   "cell_type": "code",
   "execution_count": null,
   "id": "4d051732-d258-4fa9-b0e1-a7651d0c55b0",
   "metadata": {
    "tags": [
     "gridwidth-1-4"
    ]
   },
   "outputs": [],
   "source": [
    "# 1 / 4"
   ]
  },
  {
   "cell_type": "code",
   "execution_count": 3,
   "id": "de264441-44ee-4d51-a309-cc05fc8cf8db",
   "metadata": {
    "tags": [
     "gridwidth-3-4"
    ]
   },
   "outputs": [],
   "source": [
    "# 3 / 4"
   ]
  },
  {
   "cell_type": "code",
   "execution_count": 4,
   "id": "60d8b694-feaa-4b84-b64d-e9d72df010aa",
   "metadata": {
    "tags": [
     "gridwidth-2-5"
    ]
   },
   "outputs": [],
   "source": [
    "# 2 / 5 "
   ]
  },
  {
   "cell_type": "code",
   "execution_count": 5,
   "id": "7e6eb8de-68d2-42ac-9a85-9422bd43eb42",
   "metadata": {
    "tags": [
     "gridwidth-3-5"
    ]
   },
   "outputs": [],
   "source": [
    "# 3 / 5"
   ]
  },
  {
   "cell_type": "code",
   "execution_count": 6,
   "id": "632819cd-1d24-4a4e-8232-486a742abcc5",
   "metadata": {
    "tags": [
     "gridwidth-5-6"
    ]
   },
   "outputs": [],
   "source": [
    "# 5 / 6"
   ]
  },
  {
   "cell_type": "code",
   "execution_count": 7,
   "id": "21be6cae-c2a7-4170-90ed-758451a06dcc",
   "metadata": {
    "tags": [
     "gridwidth-1-6"
    ]
   },
   "outputs": [],
   "source": [
    "# 1 / 6"
   ]
  },
  {
   "cell_type": "markdown",
   "id": "89ba6097-a3a2-4680-88e8-2bb3cd5bdb8e",
   "metadata": {
    "tags": [
     "gridwidth-1-2"
    ]
   },
   "source": [
    "contrary to the previous implementation, the height of the various pieces does not come into play"
   ]
  },
  {
   "cell_type": "markdown",
   "id": "20729669-08ca-4b6d-9a84-def6337be800",
   "metadata": {
    "tags": [
     "gridwidth-1-2"
    ]
   },
   "source": [
    "contrary to the previous implementation, the height of the various pieces does not come into play\n",
    "contrary to the previous implementation, the height of the various pieces does not come into play"
   ]
  },
  {
   "cell_type": "markdown",
   "id": "bb94aaf5-80fb-4b3d-bc66-ae2f043aa29b",
   "metadata": {
    "tags": [
     "gridwidth-1-2"
    ]
   },
   "source": [
    "contrary to the previous implementation, the height of the various pieces does not come into play\n",
    "contrary to the previous implementation, the height of the various pieces does not come into play"
   ]
  },
  {
   "cell_type": "markdown",
   "id": "e72a0389-bb14-44b0-9053-21b6a26e8ccf",
   "metadata": {
    "tags": [
     "gridwidth-1-2"
    ]
   },
   "source": [
    "contrary to the previous implementation, the height of the various pieces does not come into play"
   ]
  },
  {
   "cell_type": "markdown",
   "id": "b12bf685-e0bf-4536-ac79-51d9648df663",
   "metadata": {
    "tags": [
     "gridwidth-1-2"
    ]
   },
   "source": [
    "contrary to the previous implementation, the height of the various pieces does not come into play"
   ]
  },
  {
   "cell_type": "markdown",
   "id": "97e9c7f2-09ba-4a60-82b8-31271a8e1740",
   "metadata": {
    "editable": true,
    "slideshow": {
     "slide_type": ""
    },
    "tags": [
     "gridwidth-1-2"
    ]
   },
   "source": [
    "contrary to the previous implementation, the height of the various pieces does not come into play"
   ]
  },
  {
   "cell_type": "markdown",
   "id": "ae9192a6-3728-4fef-a433-42b3575163bb",
   "metadata": {
    "editable": true,
    "slideshow": {
     "slide_type": ""
    },
    "tags": []
   },
   "source": [
    "## test"
   ]
  },
  {
   "cell_type": "code",
   "execution_count": null,
   "id": "e6b65a76-c5f5-4cd8-8e89-615aae890c0f",
   "metadata": {
    "editable": true,
    "slideshow": {
     "slide_type": ""
    },
    "tags": []
   },
   "outputs": [],
   "source": []
  }
 ],
 "metadata": {
  "kernelspec": {
   "display_name": "Python 3 (ipykernel)",
   "language": "python",
   "name": "python3"
  },
  "language_info": {
   "codemirror_mode": {
    "name": "ipython",
    "version": 3
   },
   "file_extension": ".py",
   "mimetype": "text/x-python",
   "name": "python",
   "nbconvert_exporter": "python",
   "pygments_lexer": "ipython3",
   "version": "3.11.6"
  }
 },
 "nbformat": 4,
 "nbformat_minor": 5
}
